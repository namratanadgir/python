{
  "nbformat": 4,
  "nbformat_minor": 0,
  "metadata": {
    "colab": {
      "provenance": []
    },
    "kernelspec": {
      "name": "python3",
      "display_name": "Python 3"
    },
    "language_info": {
      "name": "python"
    }
  },
  "cells": [
    {
      "cell_type": "code",
      "execution_count": null,
      "metadata": {
        "id": "G-FNNfMRVmRw"
      },
      "outputs": [],
      "source": []
    },
    {
      "cell_type": "markdown",
      "source": [],
      "metadata": {
        "id": "MJDPrvwYV9IE"
      }
    },
    {
      "cell_type": "code",
      "source": [
        "print(\"iam namrata\")"
      ],
      "metadata": {
        "colab": {
          "base_uri": "https://localhost:8080/"
        },
        "id": "LDzrLd2XV9h3",
        "outputId": "58ceaf53-6635-43f5-823f-1db4f0a48d68"
      },
      "execution_count": null,
      "outputs": [
        {
          "output_type": "stream",
          "name": "stdout",
          "text": [
            "iam namrata\n"
          ]
        }
      ]
    },
    {
      "cell_type": "code",
      "source": [
        "a+b"
      ],
      "metadata": {
        "id": "AEWEPf3hWVI5"
      },
      "execution_count": null,
      "outputs": []
    },
    {
      "cell_type": "markdown",
      "source": [],
      "metadata": {
        "id": "UAKUjB2NYMgJ"
      }
    },
    {
      "cell_type": "markdown",
      "source": [
        "variable declaration\n",
        "rule 1 variable should always start with an alphabet or _\n",
        "rule 2 variable should not start with some number or special charaters ex:1stnum=5\n",
        "rule 3 variable declaration is case sensitive"
      ],
      "metadata": {
        "id": "4ScxgOecYwY9"
      }
    },
    {
      "cell_type": "markdown",
      "source": [],
      "metadata": {
        "id": "f3uHTudYb-Sw"
      }
    },
    {
      "cell_type": "code",
      "source": [
        "a=5\n",
        "b=9\n",
        "sum=a+b\n",
        "print(sum)\n",
        "print(\"sum\")"
      ],
      "metadata": {
        "colab": {
          "base_uri": "https://localhost:8080/"
        },
        "id": "Zv8RqIqdXf6C",
        "outputId": "aa1265b0-b193-4cae-ee46-bb7977e95d3c"
      },
      "execution_count": null,
      "outputs": [
        {
          "output_type": "stream",
          "name": "stdout",
          "text": [
            "14\n",
            "sum\n"
          ]
        }
      ]
    },
    {
      "cell_type": "code",
      "source": [
        "a-b"
      ],
      "metadata": {
        "id": "tWM8WtG7XxB0"
      },
      "execution_count": null,
      "outputs": []
    },
    {
      "cell_type": "markdown",
      "source": [
        "variable declatration"
      ],
      "metadata": {
        "id": "yCUmVf7xcXUn"
      }
    },
    {
      "cell_type": "code",
      "source": [
        "a=8\n",
        "b=6\n",
        "substract=a-b\n",
        "print(substract)"
      ],
      "metadata": {
        "colab": {
          "base_uri": "https://localhost:8080/"
        },
        "id": "YU4LzjGrcjM2",
        "outputId": "691ed079-aca0-4887-fdd5-bcf73c8c55a8"
      },
      "execution_count": null,
      "outputs": [
        {
          "output_type": "stream",
          "name": "stdout",
          "text": [
            "2\n"
          ]
        }
      ]
    },
    {
      "cell_type": "code",
      "source": [
        "a*b"
      ],
      "metadata": {
        "id": "XZb2CxJ0cmoh"
      },
      "execution_count": null,
      "outputs": []
    },
    {
      "cell_type": "markdown",
      "source": [
        "variable declaration"
      ],
      "metadata": {
        "id": "fM7r_Hw3dHJs"
      }
    },
    {
      "cell_type": "code",
      "source": [
        "a=2\n",
        "b=3\n",
        "multiply=a*b\n",
        "print(multiply)"
      ],
      "metadata": {
        "colab": {
          "base_uri": "https://localhost:8080/"
        },
        "id": "dUk_EDGYdWTF",
        "outputId": "5b783a6d-413b-4a15-8b1c-39b21052e88d"
      },
      "execution_count": null,
      "outputs": [
        {
          "output_type": "stream",
          "name": "stdout",
          "text": [
            "6\n"
          ]
        }
      ]
    },
    {
      "cell_type": "code",
      "source": [
        "a/b"
      ],
      "metadata": {
        "id": "W7qvB9fZdkwI"
      },
      "execution_count": null,
      "outputs": []
    },
    {
      "cell_type": "markdown",
      "source": [
        "variable declaration"
      ],
      "metadata": {
        "id": "a4ItSB1Idz0_"
      }
    },
    {
      "cell_type": "code",
      "source": [
        "a=3\n",
        "b=9\n",
        "quotion=a/b\n",
        "print(quotion)"
      ],
      "metadata": {
        "colab": {
          "base_uri": "https://localhost:8080/"
        },
        "id": "X1aIIJ1Id4kW",
        "outputId": "6a98ee94-cc83-468d-dbd0-53a25e1782c1"
      },
      "execution_count": null,
      "outputs": [
        {
          "output_type": "stream",
          "name": "stdout",
          "text": [
            "0.3333333333333333\n"
          ]
        }
      ]
    },
    {
      "cell_type": "code",
      "source": [
        "a%b"
      ],
      "metadata": {
        "id": "jcf-bXlLeHL9"
      },
      "execution_count": null,
      "outputs": []
    },
    {
      "cell_type": "markdown",
      "source": [
        "variable declaration"
      ],
      "metadata": {
        "id": "Xi5oFyA5eKlb"
      }
    },
    {
      "cell_type": "code",
      "source": [
        "a=3\n",
        "b=9\n",
        "reminder=a%b\n",
        "print(reminder)"
      ],
      "metadata": {
        "colab": {
          "base_uri": "https://localhost:8080/"
        },
        "id": "Ut6-isz4eNeC",
        "outputId": "caadd1cf-2992-4af6-9483-af4cd2ff464f"
      },
      "execution_count": null,
      "outputs": [
        {
          "output_type": "stream",
          "name": "stdout",
          "text": [
            "3\n"
          ]
        }
      ]
    },
    {
      "cell_type": "code",
      "source": [
        "p=16\n",
        "import math\n",
        "sq=math.sqrt(p)\n",
        "print(sq)"
      ],
      "metadata": {
        "colab": {
          "base_uri": "https://localhost:8080/"
        },
        "id": "9DYKBBmBeiuk",
        "outputId": "bece2e0d-492e-4848-9400-b9d1a0afe953"
      },
      "execution_count": null,
      "outputs": [
        {
          "output_type": "stream",
          "name": "stdout",
          "text": [
            "4.0\n"
          ]
        }
      ]
    },
    {
      "cell_type": "code",
      "source": [
        "p=2\n",
        "q=3\n",
        "sq1=p*p\n",
        "sq2=q*q\n",
        "print(\"squre of p is\")\n",
        "print(sq1)\n",
        "print(\"squre of q is\")\n",
        "print(sq2)"
      ],
      "metadata": {
        "colab": {
          "base_uri": "https://localhost:8080/"
        },
        "id": "yNiCLtr6fFok",
        "outputId": "95bfe3f3-9dcb-4bbb-e613-94f99434e59a"
      },
      "execution_count": null,
      "outputs": [
        {
          "output_type": "stream",
          "name": "stdout",
          "text": [
            "squre of p is\n",
            "4\n",
            "squre of q is\n",
            "9\n"
          ]
        }
      ]
    },
    {
      "cell_type": "code",
      "source": [
        "a=8\n",
        "b=4\n",
        "c=12\n",
        "add=a+b+c\n",
        "print(add)"
      ],
      "metadata": {
        "colab": {
          "base_uri": "https://localhost:8080/"
        },
        "id": "miEIPJGJf8qr",
        "outputId": "15ea3263-fc12-45f1-dfe7-9ce11ff4eb0d"
      },
      "execution_count": null,
      "outputs": [
        {
          "output_type": "stream",
          "name": "stdout",
          "text": [
            "24\n"
          ]
        }
      ]
    },
    {
      "cell_type": "code",
      "source": [],
      "metadata": {
        "id": "gDMBJ36alA0c"
      },
      "execution_count": null,
      "outputs": []
    }
  ]
}